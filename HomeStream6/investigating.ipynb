{
 "cells": [
  {
   "cell_type": "markdown",
   "metadata": {},
   "source": [
    "# Preparation\n",
    "Run the following code block before anything else: this will import all the input data and adds some extrapolated data points. Also normalizes all values, so they are more directly comparable."
   ]
  },
  {
   "cell_type": "code",
   "execution_count": 5,
   "metadata": {
    "pycharm": {
     "name": "#%%\n"
    }
   },
   "outputs": [],
   "source": [
    "# Import packages needed for data management and analysis\n",
    "import pandas as pd\n",
    "import numpy as np\n",
    "\n",
    "from sklearn.preprocessing import normalize\n",
    "\n",
    "# Shortcut function to allow by-column normalization\n",
    "# (normalize by default assumes by-row)\n",
    "def transposed_normalize(df):\n",
    "    return pd.DataFrame(normalize(df.T), index=df.columns, columns=df.index).T\n",
    "\n",
    "# Stream-Derived Data\n",
    "frame_absorb = pd.read_csv('InputData/StreamDerived/SubsumeFrames.csv',\n",
    "                           index_col=\"Frame\")\n",
    "ability_use = pd.read_csv('InputData/StreamDerived/SubsumeAbility.csv',\n",
    "                          index_col=[\"Ability\", \"Frame\"])\n",
    "ability_replace = pd.read_csv('InputData/StreamDerived/SubsumeReplace.csv',\n",
    "                              index_col=[\"Ability\", \"Frame\"])\n",
    "\n",
    "# Game-Derived Data\n",
    "subsume_cost = pd.read_csv('InputData/GameDerived/SubsumeFrameCost.csv',\n",
    "                           index_col=\"Frame\")\n",
    "ability_cost = pd.read_csv('InputData/GameDerived/ReplacementAbilityCost.csv',\n",
    "                           index_col=[\"Ability\", \"Frame\"])\n",
    "\n",
    "# The sums of costs might be worth comparing as well\n",
    "subsume_cost['Total'] = subsume_cost.apply(np.sum, axis=1)\n",
    "ability_cost['Total'] = ability_cost.apply(np.sum, axis=1)\n",
    "\n",
    "# The replacement rate needs to be by frame (no other union exists)\n",
    "ability_replace = ability_replace.groupby(\"Frame\").sum()\n",
    "\n",
    "# Normalize all data so it can be easily compared\n",
    "frame_absorb = transposed_normalize(frame_absorb)\n",
    "ability_use = transposed_normalize(ability_use)\n",
    "ability_replace = transposed_normalize(ability_replace)\n",
    "\n",
    "subsume_cost = transposed_normalize(subsume_cost)\n",
    "ability_cost = transposed_normalize(ability_cost)\n",
    "\n",
    "# Label the columns in each frame for easy referencing later\n",
    "frame_absorb.rename(columns=lambda col: f\"{col} (Frame Subsumed)\", inplace=True)\n",
    "ability_use.rename(columns=lambda col: f\"{col} (Ability Imprinted)\", inplace=True)\n",
    "ability_replace.rename(columns=lambda col: f\"{col} (Ability Removed)\", inplace=True)\n",
    "subsume_cost.rename(columns=lambda col: f\"{col} (Cost of Subsuming)\", inplace=True)\n",
    "ability_cost.rename(columns=lambda col: f\"{col} (Cost of Imprinting)\", inplace=True)"
   ]
  },
  {
   "cell_type": "markdown",
   "metadata": {
    "pycharm": {
     "name": "#%% md\n"
    }
   },
   "source": [
    "## Interactive Analysis (X vs. Y, scatter plot)\n",
    "Use this to compare various correlations between metrics at the Warframe level.\n",
    "Run the code block below to prepare the analysis"
   ]
  },
  {
   "cell_type": "code",
   "execution_count": 6,
   "metadata": {
    "pycharm": {
     "name": "#%%\n"
    }
   },
   "outputs": [
    {
     "data": {
      "application/vnd.jupyter.widget-view+json": {
       "model_id": "04b54652ef524a1fb240c5da2e02d29f",
       "version_major": 2,
       "version_minor": 0
      },
      "text/plain": [
       "Canvas(toolbar=Toolbar(toolitems=[('Home', 'Reset original view', 'home', 'home'), ('Back', 'Back to previous …"
      ]
     },
     "metadata": {},
     "output_type": "display_data"
    },
    {
     "data": {
      "application/vnd.jupyter.widget-view+json": {
       "model_id": "46426ecdcd5342e397560992f9c41753",
       "version_major": 2,
       "version_minor": 0
      },
      "text/plain": [
       "Dropdown(description='(X)', index=16, options=('Bile (Cost of Imprinting)', 'Bile (Cost of Subsuming)', 'Bioti…"
      ]
     },
     "metadata": {},
     "output_type": "display_data"
    },
    {
     "data": {
      "application/vnd.jupyter.widget-view+json": {
       "model_id": "a72543e279cd433a90b84b430f50314c",
       "version_major": 2,
       "version_minor": 0
      },
      "text/plain": [
       "Dropdown(description='(Y)', index=12, options=('Bile (Cost of Imprinting)', 'Bile (Cost of Subsuming)', 'Bioti…"
      ]
     },
     "metadata": {},
     "output_type": "display_data"
    }
   ],
   "source": [
    "# Merge all Frame-based data into one dataframe for easy usage\n",
    "# Ability derived values need to be treated differently to prevent data duplication for Helminth values\n",
    "full_frame_data = ability_cost.reset_index(level=1).join(ability_use.reset_index(level=1).drop(\"Frame\", axis=1), on=\"Ability\")\n",
    "full_frame_data.reset_index(inplace=True)\n",
    "full_frame_data.set_index(\"Frame\", inplace=True)\n",
    "# Now merge in frame-only data, which lacks the Helminth-derived issues above\n",
    "full_frame_data = full_frame_data.join(frame_absorb)\n",
    "full_frame_data = full_frame_data.join(ability_replace)\n",
    "full_frame_data = full_frame_data.join(subsume_cost)\n",
    "\n",
    "# Set the index to be [\"Frame\", \"Ability\"] for easy usage below\n",
    "full_frame_data.reset_index(inplace=True)\n",
    "full_frame_data.set_index([\"Frame\", \"Ability\"], inplace=True)\n",
    "\n",
    "# Prepare everything we need for interactive plotting\n",
    "%matplotlib widget\n",
    "import matplotlib.pyplot as plt\n",
    "import ipywidgets as widgets\n",
    "from IPython.display import display\n",
    "\n",
    "# Generate widgets which select for data on a given axis\n",
    "x_dropdown = widgets.Dropdown(\n",
    "    options=sorted(full_frame_data.columns),\n",
    "    value='Total (Cost of Subsuming)',\n",
    "    description=\"(X)\"\n",
    ")\n",
    "\n",
    "y_dropdown = widgets.Dropdown(\n",
    "    options=sorted(full_frame_data.columns),\n",
    "    value='Prevalence (Frame Subsumed)',\n",
    "    description=\"(Y)\"\n",
    ")\n",
    "\n",
    "# Render the default plot (total subsume cost vs. subsume use)\n",
    "fig1, ax1 = plt.subplots()\n",
    "sct1 = ax1.scatter(full_frame_data['Total (Cost of Subsuming)'],\n",
    "                 full_frame_data['Prevalence (Frame Subsumed)'],\n",
    "                 alpha=0.2)\n",
    "ax1.set_xlabel('Total (Cost of Subsuming)')\n",
    "ax1.set_ylabel('Prevalence (Frame Subsumed)')\n",
    "annot1 = ax1.annotate(\"\", xy=(0,0), xytext=(5,5), textcoords=\"offset points\")\n",
    "annot1.set_visible(False)\n",
    "\n",
    "# Enable resizing (I.E. zooming in)\n",
    "fig1.canvas.resizable = True\n",
    "\n",
    "# Shortcut to update annotations (tooltips) on an update\n",
    "def update_annot_fig1(ind):\n",
    "    # Determine where the tooltip should be drawn\n",
    "    pos = sct1.get_offsets()[ind[\"ind\"][0]]\n",
    "    annot1.xy = pos\n",
    "    # Build up the tooltip's text\n",
    "    idx = ind[\"ind\"] # Events reported index is nested for some reason\n",
    "    labels = full_frame_data.index[idx]\n",
    "    tooltip_str = \"\\n\".join([f\"{x[0]} ({x[1]})\" for x in labels])\n",
    "    # Update hte text for the tooltip\n",
    "    annot1.set_text(tooltip_str)\n",
    "\n",
    "# Function to update the tooltip when a data point is hovered over\n",
    "def hover_update_1(event):\n",
    "    vis = annot1.get_visible()\n",
    "    if event.inaxes == ax1:\n",
    "        cont, ind = sct1.contains(event)\n",
    "        if cont:\n",
    "            update_annot_fig1(ind)\n",
    "            annot1.set_visible(True)\n",
    "        elif vis:\n",
    "            annot1.set_visible(False)\n",
    "        fig1.canvas.draw_idle()\n",
    "\n",
    "fig1.canvas.mpl_connect(\"motion_notify_event\", hover_update_1)\n",
    "\n",
    "# Mediate changes when X is updated\n",
    "def update_x(change):\n",
    "    new_vals = full_frame_data[change.new]\n",
    "    sct1.set_offsets(np.c_[new_vals, full_frame_data[y_dropdown.value]])\n",
    "    ax1.set_xlabel(change.new)\n",
    "    # Rescale the plot to account for changes in data dist.\n",
    "    min_val = np.min(new_vals)\n",
    "    max_val = np.max(new_vals)\n",
    "    buffer = 0.1 * (max_val - min_val)\n",
    "    ax1.set_xlim(left=min_val-buffer,\n",
    "                right=max_val-buffer)\n",
    "\n",
    "# Mediate changes when Y is updated\n",
    "def update_y(change):\n",
    "    new_vals = full_frame_data[change.new]\n",
    "    sct1.set_offsets(np.c_[full_frame_data[x_dropdown.value],\n",
    "                          full_frame_data[change.new]])\n",
    "    ax1.set_ylabel(change.new)\n",
    "    # Rescale the plot to account for changes in data dist.\n",
    "    min_val = np.min(new_vals)\n",
    "    max_val = np.max(new_vals)\n",
    "    buffer = 0.1 * (max_val - min_val)\n",
    "    ax1.set_ylim(top=max_val+buffer,\n",
    "                bottom=min_val-buffer)\n",
    "\n",
    "x_dropdown.observe(update_x, names='label')\n",
    "y_dropdown.observe(update_y, names='label')\n",
    "\n",
    "display(x_dropdown)\n",
    "display(y_dropdown)"
   ]
  },
  {
   "cell_type": "markdown",
   "metadata": {
    "pycharm": {
     "name": "#%% md\n"
    }
   },
   "source": [
    "## Pearson's Correlation of Metrics\n",
    "The plot below is the data above, but tested for direct correlation\n",
    "(using Pearson's correlation coefficient). 'r' is the coefficient of\n",
    "correlation (1 is perfect positive correlation, -1 is perfect inverse\n",
    "correlation, 0 is no correlation whatsoever), and 'p' is the statistical\n",
    "p-value (which roughly corresponds to how likely this result would be\n",
    "observed by random chance; lower values are better)"
   ]
  },
  {
   "cell_type": "code",
   "execution_count": 7,
   "metadata": {
    "pycharm": {
     "name": "#%%\n"
    }
   },
   "outputs": [
    {
     "data": {
      "application/vnd.jupyter.widget-view+json": {
       "model_id": "5f47d856f40b4db5990aa39d3c4addb2",
       "version_major": 2,
       "version_minor": 0
      },
      "text/plain": [
       "Canvas(toolbar=Toolbar(toolitems=[('Home', 'Reset original view', 'home', 'home'), ('Back', 'Back to previous …"
      ]
     },
     "metadata": {},
     "output_type": "display_data"
    },
    {
     "data": {
      "text/plain": [
       "9"
      ]
     },
     "execution_count": 7,
     "metadata": {},
     "output_type": "execute_result"
    }
   ],
   "source": [
    "# Import needed packages\n",
    "from itertools import combinations\n",
    "from scipy.stats import pearsonr\n",
    "\n",
    "# Calculate the correlations matrix for the resulting DF\n",
    "corr_df = pd.DataFrame(index=[\"r\", \"p\"])\n",
    "combos = combinations(full_frame_data.columns, 2)\n",
    "\n",
    "# Drop combinations which we already know have correlation\n",
    "# (namely costs to costs of specific secretions to one another)\n",
    "redundant_vals = [\n",
    "    \"Imprinting\",\n",
    "    \"Subsuming\"\n",
    "]\n",
    "def filter_combos(val):\n",
    "    first_bool = False\n",
    "    second_bool = False\n",
    "    for r in redundant_vals:\n",
    "        if r in val[0]:\n",
    "            first_bool = True\n",
    "        if r in val[1]:\n",
    "            second_bool = True\n",
    "        if first_bool and second_bool:\n",
    "            return False\n",
    "    return True\n",
    "combos = list(filter(filter_combos, combos))\n",
    "\n",
    "# Calculate the correlation values\n",
    "for c in combos:\n",
    "    idx = f\"{c[0]} <-> {c[1]}\"\n",
    "    x = full_frame_data.dropna().loc[:, c[0]]\n",
    "    y = full_frame_data.dropna().loc[:, c[1]]\n",
    "    r, p = pearsonr(x, y)\n",
    "    corr_df[idx] = [r, p]\n",
    "\n",
    "# Flip the df for easy management in plotting\n",
    "corr_df = corr_df.T\n",
    "\n",
    "# Plot the resulting correlation results\n",
    "fig2, ax2 = plt.subplots()\n",
    "sct2 = ax2.scatter(corr_df[\"r\"], corr_df[\"p\"], alpha=0.2)\n",
    "\n",
    "ax2.set_xlabel('r')\n",
    "ax2.set_ylabel('p')\n",
    "ax2.hlines(0.05, xmin=-1, xmax=1,\n",
    "           color=\"red\", linestyles='dashed')\n",
    "annot2 = ax2.annotate(\"\", xy=(0,0), xytext=(5,5), textcoords=\"offset points\")\n",
    "annot2.set_visible(False)\n",
    "\n",
    "# Shortcut to update annotations (tooltips) on an update\n",
    "def update_annot_fig2(ind):\n",
    "    # Determine where the tooltip should be drawn\n",
    "    pos = sct2.get_offsets()[ind[\"ind\"][0]]\n",
    "    annot2.xy = pos\n",
    "    # Build up the tooltip's text\n",
    "    idx = ind[\"ind\"] # Events reported index is nested for some reason\n",
    "    labels = corr_df.index[idx]\n",
    "    tooltip_str = \"\\n\".join(labels)\n",
    "    # Update hte text for the tooltip\n",
    "    annot2.set_text(tooltip_str)\n",
    "\n",
    "# Function to update the tooltip when a data point is hovered over\n",
    "def hover_update_2(event):\n",
    "    vis = annot2.get_visible()\n",
    "    if event.inaxes == ax2:\n",
    "        cont, ind = sct2.contains(event)\n",
    "        if cont:\n",
    "            update_annot_fig2(ind)\n",
    "            annot2.set_visible(True)\n",
    "        elif vis:\n",
    "            annot2.set_visible(False)\n",
    "        fig2.canvas.draw_idle()\n",
    "\n",
    "fig2.canvas.mpl_connect(\"motion_notify_event\", hover_update_2)"
   ]
  },
  {
   "cell_type": "markdown",
   "metadata": {
    "pycharm": {
     "name": "#%% md\n"
    }
   },
   "source": [
    "## Helminth Filtered Correlations\n",
    "Some correlation results may have been biased by the (frankly absurd)\n",
    "skew provided by the Helminth ability costs and usage. Thus, we repeated\n",
    "the above analysis without the Helminth data to see if any changes\n",
    "result."
   ]
  },
  {
   "cell_type": "code",
   "execution_count": 8,
   "metadata": {
    "pycharm": {
     "name": "#%%\n"
    }
   },
   "outputs": [
    {
     "data": {
      "application/vnd.jupyter.widget-view+json": {
       "model_id": "276f329a7109413bbf585f42d949e0f5",
       "version_major": 2,
       "version_minor": 0
      },
      "text/plain": [
       "Canvas(toolbar=Toolbar(toolitems=[('Home', 'Reset original view', 'home', 'home'), ('Back', 'Back to previous …"
      ]
     },
     "metadata": {},
     "output_type": "display_data"
    },
    {
     "data": {
      "text/plain": [
       "9"
      ]
     },
     "execution_count": 8,
     "metadata": {},
     "output_type": "execute_result"
    }
   ],
   "source": [
    "# A subset of the full df without Helminth data\n",
    "subset_df = full_frame_data.drop(index=[\"Helminth\"])\n",
    "\n",
    "# Calculate the correlation values\n",
    "corr_df2 = pd.DataFrame(index=[\"r\", \"p\"])\n",
    "for c in combos:\n",
    "    idx = f\"{c[0]} <-> {c[1]}\"\n",
    "    x = full_frame_data.dropna().loc[:, c[0]]\n",
    "    y = full_frame_data.dropna().loc[:, c[1]]\n",
    "    r, p = pearsonr(x, y)\n",
    "    corr_df2[idx] = [r, p]\n",
    "\n",
    "# Flip the df for easy management in plotting\n",
    "corr_df2 = corr_df2.T\n",
    "\n",
    "# Plot the resulting correlation results\n",
    "fig3, ax3 = plt.subplots()\n",
    "sct3 = ax3.scatter(corr_df2[\"r\"], corr_df2[\"p\"], alpha=0.2)\n",
    "\n",
    "ax3.set_xlabel('r')\n",
    "ax3.set_ylabel('p')\n",
    "ax3.hlines(0.05, xmin=-1, xmax=1,\n",
    "           color=\"red\", linestyles='dashed')\n",
    "annot3 = ax3.annotate(\"\", xy=(0,0), xytext=(5,5), textcoords=\"offset points\")\n",
    "annot3.set_visible(False)\n",
    "\n",
    "# Shortcut to update annotations (tooltips) on an update\n",
    "def update_annot_fig3(ind):\n",
    "    # Determine where the tooltip should be drawn\n",
    "    pos = sct3.get_offsets()[ind[\"ind\"][0]]\n",
    "    annot3.xy = pos\n",
    "    # Build up the tooltip's text\n",
    "    idx = ind[\"ind\"] # Events reported index is nested for some reason\n",
    "    labels = corr_df.index[idx]\n",
    "    tooltip_str = \"\\n\".join(labels)\n",
    "    # Update hte text for the tooltip\n",
    "    annot3.set_text(tooltip_str)\n",
    "\n",
    "# Function to update the tooltip when a data point is hovered over\n",
    "def hover_update_3(event):\n",
    "    vis = annot3.get_visible()\n",
    "    if event.inaxes == ax3:\n",
    "        cont, ind = sct3.contains(event)\n",
    "        if cont:\n",
    "            update_annot_fig3(ind)\n",
    "            annot3.set_visible(True)\n",
    "        elif vis:\n",
    "            annot3.set_visible(False)\n",
    "        fig3.canvas.draw_idle()\n",
    "\n",
    "fig3.canvas.mpl_connect(\"motion_notify_event\", hover_update_3)\n"
   ]
  }
 ],
 "metadata": {
  "kernelspec": {
   "display_name": "Python 3",
   "language": "python",
   "name": "python3"
  },
  "language_info": {
   "codemirror_mode": {
    "name": "ipython",
    "version": 3
   },
   "file_extension": ".py",
   "mimetype": "text/x-python",
   "name": "python",
   "nbconvert_exporter": "python",
   "pygments_lexer": "ipython3",
   "version": "3.8.2"
  }
 },
 "nbformat": 4,
 "nbformat_minor": 1
}